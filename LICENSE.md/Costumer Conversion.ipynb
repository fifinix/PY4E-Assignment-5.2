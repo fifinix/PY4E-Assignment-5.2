{
 "cells": [
  {
   "cell_type": "code",
   "execution_count": 2,
   "metadata": {},
   "outputs": [],
   "source": [
    "import numpy as np\n",
    "from sklearn import preprocessing\n",
    "\n",
    "raw_csv_data = np.loadtxt('Audiobooks-data.csv', delimiter=',')\n",
    "\n",
    "unscaled_inputs_all = raw_csv_data[:,1:-1]\n",
    "targets_all = raw_csv_data[:,-1]"
   ]
  },
  {
   "cell_type": "markdown",
   "metadata": {},
   "source": [
    "## Balance the data"
   ]
  },
  {
   "cell_type": "code",
   "execution_count": 7,
   "metadata": {},
   "outputs": [],
   "source": [
    "num_one_targets = int(np.sum(targets_all))\n",
    "zero_targets_counter = 0\n",
    "indices_to_remove = []\n",
    "\n",
    "for i in range(targets_all.shape[0]):\n",
    "    if targets_all[i]==0:\n",
    "        zero_targets_counter += 1\n",
    "        if zero_targets_counter > num_one_targets:\n",
    "            indices_to_remove.append(i)\n",
    "            \n",
    "unscaled_inputs_equal_priors = np.delete(unscaled_inputs_all, indices_to_remove, axis=0)\n",
    "targets_equal_priors = np.delete(targets_all, indices_to_remove, axis=0)\n"
   ]
  },
  {
   "cell_type": "markdown",
   "metadata": {},
   "source": [
    "## Standardize the inputs"
   ]
  },
  {
   "cell_type": "code",
   "execution_count": 8,
   "metadata": {},
   "outputs": [],
   "source": [
    "scaled_inputs = preprocessing.scale(unscaled_inputs_equal_priors)"
   ]
  },
  {
   "cell_type": "markdown",
   "metadata": {},
   "source": [
    "## Shuffle the data"
   ]
  },
  {
   "cell_type": "code",
   "execution_count": 10,
   "metadata": {},
   "outputs": [],
   "source": [
    "shuffled_indices = np.arange(scaled_inputs.shape[0])\n",
    "np.random.shuffle(shuffled_indices)\n",
    "shuffled_inputs = scaled_inputs[shuffled_indices]\n",
    "shuffled_targets = targets_equal_priors[shuffled_indices]"
   ]
  },
  {
   "cell_type": "markdown",
   "metadata": {},
   "source": [
    "## Split the data into train, test and validation"
   ]
  },
  {
   "cell_type": "code",
   "execution_count": 13,
   "metadata": {},
   "outputs": [
    {
     "name": "stdout",
     "output_type": "stream",
     "text": [
      "1792.0 3579 0.5006985191394244\n",
      "227.0 447 0.5078299776286354\n",
      "218.0 448 0.48660714285714285\n"
     ]
    }
   ],
   "source": [
    "samples_count = shuffled_inputs.shape[0]\n",
    "\n",
    "train_sample_count = int(0.8*samples_count)\n",
    "validation_sample_count = int(0.1*samples_count)\n",
    "test_sample_count = samples_count-train_sample_count-validation_sample_count\n",
    "\n",
    "train_inputs = shuffled_inputs[:train_sample_count]\n",
    "train_targets = shuffled_targets[:train_sample_count]\n",
    "\n",
    "validation_inputs = shuffled_inputs[train_sample_count:train_sample_count+validation_sample_count]\n",
    "validation_targets = shuffled_targets[train_sample_count:train_sample_count+validation_sample_count]\n",
    "\n",
    "test_inputs = shuffled_inputs[train_sample_count+validation_sample_count:]\n",
    "test_targets = shuffled_targets[train_sample_count+validation_sample_count:]\n",
    "\n",
    "print(np.sum(train_targets), train_sample_count, np.sum(train_targets)/train_sample_count)\n",
    "print(np.sum(validation_targets), validation_sample_count, np.sum(validation_targets)/validation_sample_count)\n",
    "print(np.sum(test_targets), test_sample_count, np.sum(test_targets)/test_sample_count)"
   ]
  },
  {
   "cell_type": "code",
   "execution_count": 15,
   "metadata": {},
   "outputs": [],
   "source": [
    "np.savez('Audiobooks_train', inputs=train_inputs, targets=train_targets)\n",
    "np.savez('Audiobooks_validation', inputs=validation_inputs, targets=validation_targets)\n",
    "np.savez('Audiobooks_test', inputs=test_inputs, targets=test_targets)"
   ]
  },
  {
   "cell_type": "markdown",
   "metadata": {},
   "source": [
    "## Create a class for batching"
   ]
  },
  {
   "cell_type": "code",
   "execution_count": 35,
   "metadata": {},
   "outputs": [],
   "source": [
    "class Audiobooks_Data_Reader():\n",
    "    def __init__(self, dataset, batch_size=None):\n",
    "        npz = np.load('Audiobooks_data_{0}.npz'.format(dataset))\n",
    "        \n",
    "        self.inputs, self.targets = npz['inputs'].astype(np.float), npz['targets'].astype(np.int)\n",
    "        \n",
    "        if batch_size is None:\n",
    "            self.batch_size = self.inputs.shape[0]\n",
    "        else:\n",
    "            self.batch_size = batch_size\n",
    "        self.curr_batch = 0\n",
    "        self.batch_count = self.inputs.shape[0]//self.batch_size\n",
    "    def __next__(self):\n",
    "        if self.curr_batch >= self.batch_count:\n",
    "            self.curr_batch = 0\n",
    "            raise StopIteration()\n",
    "        \n",
    "        batch_slice = slice(self.curr_batch * self.batch_size, (self.curr_batch+1)*self.batch_size)\n",
    "        inputs_batch = self.inputs[batch_slice]\n",
    "        targets_batch = self.targets[batch_slice]\n",
    "        self.curr_batch += 1\n",
    "        \n",
    "        classes_num = 2\n",
    "        targets_one_hot = np.zeros((targets_batch.shape[0], classes_num))\n",
    "        targets_one_hot[range(targets_batch.shape[0]), targets_batch] = 1\n",
    "        \n",
    "        return inputs_batch, targets_one_hot\n",
    "    def __iter__(self):\n",
    "        return self"
   ]
  },
  {
   "cell_type": "markdown",
   "metadata": {},
   "source": [
    "## Create a model\n"
   ]
  },
  {
   "cell_type": "code",
   "execution_count": 42,
   "metadata": {},
   "outputs": [
    {
     "name": "stdout",
     "output_type": "stream",
     "text": [
      "Epoch 1. Training loss: 0.637. Validation loss: 0.532. Validation accuracy: 72.48%\n",
      "Epoch 2. Training loss: 0.483. Validation loss: 0.453. Validation accuracy: 74.94%\n",
      "Epoch 3. Training loss: 0.421. Validation loss: 0.417. Validation accuracy: 75.84%\n",
      "Epoch 4. Training loss: 0.391. Validation loss: 0.401. Validation accuracy: 75.84%\n",
      "Epoch 5. Training loss: 0.373. Validation loss: 0.389. Validation accuracy: 76.73%\n",
      "Epoch 6. Training loss: 0.362. Validation loss: 0.379. Validation accuracy: 77.63%\n",
      "Epoch 7. Training loss: 0.355. Validation loss: 0.374. Validation accuracy: 79.19%\n",
      "Epoch 8. Training loss: 0.349. Validation loss: 0.369. Validation accuracy: 79.19%\n",
      "Epoch 9. Training loss: 0.345. Validation loss: 0.366. Validation accuracy: 79.19%\n",
      "Epoch 10. Training loss: 0.341. Validation loss: 0.363. Validation accuracy: 78.75%\n",
      "Epoch 11. Training loss: 0.338. Validation loss: 0.361. Validation accuracy: 78.75%\n",
      "Epoch 12. Training loss: 0.335. Validation loss: 0.358. Validation accuracy: 78.97%\n",
      "Epoch 13. Training loss: 0.333. Validation loss: 0.356. Validation accuracy: 78.97%\n",
      "Epoch 14. Training loss: 0.331. Validation loss: 0.355. Validation accuracy: 78.97%\n",
      "Epoch 15. Training loss: 0.329. Validation loss: 0.353. Validation accuracy: 78.75%\n",
      "Epoch 16. Training loss: 0.327. Validation loss: 0.351. Validation accuracy: 78.75%\n",
      "Epoch 17. Training loss: 0.325. Validation loss: 0.350. Validation accuracy: 78.75%\n",
      "Epoch 18. Training loss: 0.324. Validation loss: 0.348. Validation accuracy: 78.97%\n",
      "Epoch 19. Training loss: 0.323. Validation loss: 0.347. Validation accuracy: 78.52%\n",
      "Epoch 20. Training loss: 0.322. Validation loss: 0.347. Validation accuracy: 78.52%\n",
      "Epoch 21. Training loss: 0.321. Validation loss: 0.346. Validation accuracy: 78.30%\n",
      "Epoch 22. Training loss: 0.320. Validation loss: 0.345. Validation accuracy: 78.30%\n",
      "Epoch 23. Training loss: 0.319. Validation loss: 0.344. Validation accuracy: 78.30%\n",
      "Epoch 24. Training loss: 0.318. Validation loss: 0.344. Validation accuracy: 78.30%\n",
      "Epoch 25. Training loss: 0.317. Validation loss: 0.343. Validation accuracy: 78.30%\n",
      "Epoch 26. Training loss: 0.317. Validation loss: 0.343. Validation accuracy: 78.97%\n",
      "Epoch 27. Training loss: 0.316. Validation loss: 0.342. Validation accuracy: 78.52%\n",
      "Epoch 28. Training loss: 0.315. Validation loss: 0.342. Validation accuracy: 78.75%\n",
      "Epoch 29. Training loss: 0.315. Validation loss: 0.342. Validation accuracy: 78.75%\n",
      "Epoch 30. Training loss: 0.314. Validation loss: 0.341. Validation accuracy: 78.52%\n",
      "Epoch 31. Training loss: 0.314. Validation loss: 0.341. Validation accuracy: 78.52%\n",
      "Epoch 32. Training loss: 0.313. Validation loss: 0.341. Validation accuracy: 78.75%\n",
      "Epoch 33. Training loss: 0.313. Validation loss: 0.340. Validation accuracy: 78.75%\n",
      "Epoch 34. Training loss: 0.312. Validation loss: 0.340. Validation accuracy: 78.75%\n",
      "Epoch 35. Training loss: 0.312. Validation loss: 0.340. Validation accuracy: 78.52%\n",
      "Epoch 36. Training loss: 0.312. Validation loss: 0.339. Validation accuracy: 78.97%\n",
      "Epoch 37. Training loss: 0.311. Validation loss: 0.339. Validation accuracy: 78.97%\n",
      "Epoch 38. Training loss: 0.311. Validation loss: 0.339. Validation accuracy: 78.75%\n",
      "Epoch 39. Training loss: 0.310. Validation loss: 0.339. Validation accuracy: 78.52%\n",
      "Epoch 40. Training loss: 0.310. Validation loss: 0.339. Validation accuracy: 78.75%\n",
      "Epoch 41. Training loss: 0.310. Validation loss: 0.339. Validation accuracy: 78.75%\n",
      "Epoch 42. Training loss: 0.310. Validation loss: 0.338. Validation accuracy: 78.97%\n",
      "Epoch 43. Training loss: 0.309. Validation loss: 0.338. Validation accuracy: 78.97%\n",
      "Epoch 44. Training loss: 0.309. Validation loss: 0.338. Validation accuracy: 78.97%\n",
      "Epoch 45. Training loss: 0.309. Validation loss: 0.338. Validation accuracy: 78.97%\n",
      "Epoch 46. Training loss: 0.308. Validation loss: 0.338. Validation accuracy: 78.97%\n",
      "Epoch 47. Training loss: 0.308. Validation loss: 0.338. Validation accuracy: 78.97%\n",
      "Epoch 48. Training loss: 0.308. Validation loss: 0.337. Validation accuracy: 79.19%\n",
      "Epoch 49. Training loss: 0.308. Validation loss: 0.337. Validation accuracy: 78.97%\n",
      "End of training.\n"
     ]
    }
   ],
   "source": [
    "import tensorflow as tf\n",
    "\n",
    "input_size = 10\n",
    "output_size = 2\n",
    "hidden_layer_size = 50\n",
    "\n",
    "tf.reset_default_graph()\n",
    "\n",
    "inputs = tf.placeholder(tf.float32, [None, input_size])\n",
    "targets = tf.placeholder(tf.int32, [None, output_size])\n",
    "\n",
    "weights_1 = tf.get_variable(\"weights_1\", [input_size, hidden_layer_size])\n",
    "biases_1 = tf.get_variable(\"biases_1\", [hidden_layer_size])\n",
    "\n",
    "outputs_1 = tf.nn.relu(tf.matmul(inputs,weights_1) + biases_1)\n",
    "\n",
    "\n",
    "weights_2 = tf.get_variable(\"weights_2\", [hidden_layer_size, hidden_layer_size])\n",
    "biases_2 = tf.get_variable(\"biases_2\",[hidden_layer_size])\n",
    "\n",
    "outputs_2 = tf.nn.relu(tf.matmul(outputs_1,weights_2) + biases_2)\n",
    "\n",
    "\n",
    "weights_3 = tf.get_variable(\"weights_3\", [hidden_layer_size, output_size])\n",
    "biases_3 = tf.get_variable(\"biases_3\", [output_size])\n",
    "\n",
    "outputs = tf.matmul(outputs_2, weights_3) + biases_3\n",
    "\n",
    "\n",
    "loss = tf.nn.softmax_cross_entropy_with_logits(logits = outputs, labels = targets)\n",
    "\n",
    "mean_loss = tf.reduce_mean(loss)\n",
    "\n",
    "optimize = tf.train.AdamOptimizer(learning_rate=0.001).minimize(mean_loss)\n",
    "\n",
    "out_equals_target = tf.equal(tf.argmax(outputs,1), tf.argmax(targets,1))\n",
    "\n",
    "accuracy = tf.reduce_mean(tf.cast(out_equals_target, tf.float32))\n",
    "\n",
    "\n",
    "sess = tf.InteractiveSession()\n",
    "\n",
    "initializer = tf.global_variables_initializer()\n",
    "\n",
    "sess.run(initializer)\n",
    "\n",
    "\n",
    "batch_size = 100\n",
    "\n",
    "max_epochs = 50\n",
    "\n",
    "prev_validation_loss = 9999999.\n",
    "\n",
    "train_data = Audiobooks_Data_Reader('train', batch_size)\n",
    "validation_data = Audiobooks_Data_Reader ('validation')\n",
    "\n",
    "for epoch_counter in range(max_epochs):\n",
    "    \n",
    "    curr_epoch_loss = 0.\n",
    "    \n",
    "    for input_batch, target_batch in train_data:\n",
    "        _, batch_loss = sess.run([optimize, mean_loss], \n",
    "            feed_dict={inputs: input_batch, targets: target_batch})\n",
    "        \n",
    "        curr_epoch_loss += batch_loss\n",
    "        \n",
    "    curr_epoch_loss /= train_data.batch_count\n",
    "    \n",
    "    validation_loss = 0.\n",
    "    validation_accuracy = 0.\n",
    "    \n",
    "    for input_batch, target_batch in validation_data:\n",
    "        validation_loss, validation_accuracy = sess.run([mean_loss, accuracy], \n",
    "        feed_dict={inputs: input_batch, targets: target_batch})   \n",
    "        \n",
    "    print('Epoch '+str(epoch_counter+1)+\n",
    "          '. Training loss: '+'{0:.3f}'.format(curr_epoch_loss)+\n",
    "          '. Validation loss: '+'{0:.3f}'.format(validation_loss)+\n",
    "          '. Validation accuracy: '+'{0:.2f}'.format(validation_accuracy * 100.)+'%')\n",
    "    \n",
    "    if validation_loss > prev_validation_loss:\n",
    "        break\n",
    "        \n",
    "    prev_validation_loss = validation_loss\n",
    "    \n",
    "print('End of training.')"
   ]
  },
  {
   "cell_type": "markdown",
   "metadata": {},
   "source": [
    "## Test the data"
   ]
  },
  {
   "cell_type": "code",
   "execution_count": 39,
   "metadata": {},
   "outputs": [
    {
     "name": "stdout",
     "output_type": "stream",
     "text": [
      "Test Accuracy: 83.93%\n"
     ]
    }
   ],
   "source": [
    "test_data = Audiobooks_Data_Reader('test')\n",
    "\n",
    "for input_batch, target_batch in test_data:\n",
    "        test_accuracy = sess.run([accuracy], \n",
    "        feed_dict={inputs: input_batch, targets: target_batch})  \n",
    "\n",
    "test_accuracy_percent = test_accuracy[0]*100\n",
    "print('Test Accuracy: '+'{0:.2f}'.format(test_accuracy_percent)+'%')"
   ]
  },
  {
   "cell_type": "code",
   "execution_count": null,
   "metadata": {},
   "outputs": [],
   "source": []
  }
 ],
 "metadata": {
  "kernelspec": {
   "display_name": "Python 3",
   "language": "python",
   "name": "python3"
  },
  "language_info": {
   "codemirror_mode": {
    "name": "ipython",
    "version": 3
   },
   "file_extension": ".py",
   "mimetype": "text/x-python",
   "name": "python",
   "nbconvert_exporter": "python",
   "pygments_lexer": "ipython3",
   "version": "3.6.4"
  }
 },
 "nbformat": 4,
 "nbformat_minor": 2
}
